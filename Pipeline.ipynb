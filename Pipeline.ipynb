{
 "cells": [
  {
   "cell_type": "markdown",
   "metadata": {},
   "source": [
    "Neural network implementation for the mask detection task"
   ]
  },
  {
   "cell_type": "code",
   "execution_count": 1,
   "metadata": {},
   "outputs": [],
   "source": [
    "# Modules required for the Neural Network implementation\n",
    "import torch"
   ]
  },
  {
   "cell_type": "code",
   "execution_count": 59,
   "metadata": {},
   "outputs": [
    {
     "name": "stdout",
     "output_type": "stream",
     "text": [
      "tensor([[-0.0233, -0.0170, -0.0278,  0.0316,  0.0157, -0.0070,  0.0255,  0.0092,\n",
      "          0.0182, -0.0013]], grad_fn=<SliceBackward0>)\n"
     ]
    }
   ],
   "source": [
    "## Initialize Linear model\n",
    "L = torch.nn.Linear(in_features=768, out_features=1,\n",
    "                    bias=True)"
   ]
  },
  {
   "cell_type": "code",
   "execution_count": 60,
   "metadata": {},
   "outputs": [],
   "source": [
    "## Define training data\n",
    "\n",
    "# inputs need to have samples on rows with columns\n",
    "# representing features: shape (X,768), where 768 is the number of features\n",
    "input_data = # as array_like\n",
    "train_input = torch.as_tensor(input_data, dtype=torch.float)\n",
    "#train_input = torch.randn(100,768)\n",
    "\n",
    "# Target is a column vector of 0s and 1s: shape (X,1)\n",
    "target_data = # as array_like\n",
    "train_target = torch.as_tensor(target_data, dtype=torch.float)\n",
    "#train_target = torch.empty(100,1).random_(2)"
   ]
  },
  {
   "cell_type": "code",
   "execution_count": 61,
   "metadata": {},
   "outputs": [
    {
     "name": "stdout",
     "output_type": "stream",
     "text": [
      "tensor([[-0.0235, -0.0171, -0.0265,  0.0314,  0.0154, -0.0063,  0.0256,  0.0083,\n",
      "          0.0180, -0.0016]], grad_fn=<SliceBackward0>)\n"
     ]
    }
   ],
   "source": [
    "## Network training algorithm\n",
    "\n",
    "# Learning rate of the SGD algorithm\n",
    "learning_rate = 0.01\n",
    "\n",
    "# Forward pass\n",
    "output = L(train_input)\n",
    "\n",
    "# BCE loss function with sigmoid activation\n",
    "lossfunc = torch.nn.BCEWithLogitsLoss()\n",
    "\n",
    "# Compute loss\n",
    "loss = lossfunc(output, train_target)\n",
    "\n",
    "# Create Stochastic Gradient Descent optimizer\n",
    "SDGoptimizer = torch.optim.SGD(L.parameters(), lr=learning_rate)\n",
    "\n",
    "# Backward pass\n",
    "loss.backward()\n",
    "\n",
    "# Update weights\n",
    "SDGoptimizer.step()\n",
    "\n",
    "print(L.weight[:,0:10])"
   ]
  },
  {
   "cell_type": "code",
   "execution_count": 67,
   "metadata": {},
   "outputs": [
    {
     "name": "stdout",
     "output_type": "stream",
     "text": [
      "tensor([[ 0.5649],\n",
      "        [-0.0187],\n",
      "        [-0.0829],\n",
      "        [-0.0494],\n",
      "        [-0.6876],\n",
      "        [ 0.9663],\n",
      "        [ 0.8508],\n",
      "        [-0.3855],\n",
      "        [ 0.3558],\n",
      "        [ 0.3628],\n",
      "        [ 0.2391],\n",
      "        [-0.0678],\n",
      "        [-0.7487],\n",
      "        [-0.1698],\n",
      "        [-1.2731],\n",
      "        [-0.1548],\n",
      "        [ 0.3579],\n",
      "        [-0.1737],\n",
      "        [-1.5329],\n",
      "        [-0.2743],\n",
      "        [ 0.2982],\n",
      "        [ 0.9333],\n",
      "        [ 0.1864],\n",
      "        [ 0.8170],\n",
      "        [ 0.8964],\n",
      "        [-0.0585],\n",
      "        [-0.3428],\n",
      "        [ 0.2939],\n",
      "        [-0.0965],\n",
      "        [-0.6837],\n",
      "        [ 0.8751],\n",
      "        [-0.6481],\n",
      "        [-0.1714],\n",
      "        [-0.1831],\n",
      "        [-0.3113],\n",
      "        [-0.1187],\n",
      "        [ 0.4026],\n",
      "        [-0.0810],\n",
      "        [ 0.6237],\n",
      "        [ 0.6879],\n",
      "        [ 0.1635],\n",
      "        [-0.2261],\n",
      "        [ 0.0930],\n",
      "        [ 0.6435],\n",
      "        [ 0.3392],\n",
      "        [ 0.6612],\n",
      "        [-0.7135],\n",
      "        [ 0.2555],\n",
      "        [-0.4106],\n",
      "        [ 0.0424],\n",
      "        [-0.0172],\n",
      "        [-0.0282],\n",
      "        [ 0.4257],\n",
      "        [ 0.7797],\n",
      "        [-0.5029],\n",
      "        [ 0.3501],\n",
      "        [-0.3519],\n",
      "        [ 0.4458],\n",
      "        [ 0.1391],\n",
      "        [-1.3209],\n",
      "        [ 0.5240],\n",
      "        [-0.5893],\n",
      "        [ 0.7780],\n",
      "        [-0.1068],\n",
      "        [ 0.9168],\n",
      "        [-0.4020],\n",
      "        [ 0.4200],\n",
      "        [ 0.2745],\n",
      "        [ 1.4217],\n",
      "        [-0.2297],\n",
      "        [ 0.3990],\n",
      "        [-0.3312],\n",
      "        [ 0.9364],\n",
      "        [ 0.1892],\n",
      "        [-0.0961],\n",
      "        [-0.4376],\n",
      "        [ 0.0624],\n",
      "        [ 0.2745],\n",
      "        [-0.9111],\n",
      "        [ 0.3525],\n",
      "        [-0.2427],\n",
      "        [ 0.0793],\n",
      "        [ 0.0926],\n",
      "        [ 0.8451],\n",
      "        [ 1.5262],\n",
      "        [-0.2514],\n",
      "        [ 0.4627],\n",
      "        [-0.0370],\n",
      "        [ 0.3162],\n",
      "        [ 0.3372],\n",
      "        [ 0.2623],\n",
      "        [-0.0263],\n",
      "        [ 0.2978],\n",
      "        [ 0.3732],\n",
      "        [-0.9555],\n",
      "        [ 0.3804],\n",
      "        [ 0.3388],\n",
      "        [ 0.3581],\n",
      "        [-0.8396],\n",
      "        [-0.3109]], grad_fn=<AddmmBackward0>)\n"
     ]
    }
   ],
   "source": [
    "## Testing environment\n",
    "\n",
    "# inputs need to have samples on rows with columns\n",
    "# representing features: shape (X,768), where 768 is sample size\n",
    "test_input = torch.randn(100,768)\n",
    "\n",
    "test_output = L(test_input)\n",
    "\n",
    "print(test_output)"
   ]
  }
 ],
 "metadata": {
  "kernelspec": {
   "display_name": "Python 3",
   "language": "python",
   "name": "python3"
  },
  "language_info": {
   "codemirror_mode": {
    "name": "ipython",
    "version": 3
   },
   "file_extension": ".py",
   "mimetype": "text/x-python",
   "name": "python",
   "nbconvert_exporter": "python",
   "pygments_lexer": "ipython3",
   "version": "3.10.2"
  }
 },
 "nbformat": 4,
 "nbformat_minor": 5
}
