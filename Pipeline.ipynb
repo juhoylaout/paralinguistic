{
 "cells": [
  {
   "cell_type": "markdown",
   "metadata": {},
   "source": [
    "Neural network implementation for the mask detection task"
   ]
  },
  {
   "cell_type": "code",
   "execution_count": 42,
   "metadata": {},
   "outputs": [],
   "source": [
    "# Modules required for the Neural Network implementation\n",
    "import torch\n",
    "import torcheval"
   ]
  },
  {
   "cell_type": "code",
   "execution_count": 43,
   "metadata": {},
   "outputs": [],
   "source": [
    "## Initialize Linear model\n",
    "L = torch.nn.Linear(in_features=768, out_features=1,\n",
    "                    bias=True)"
   ]
  },
  {
   "cell_type": "code",
   "execution_count": 44,
   "metadata": {},
   "outputs": [],
   "source": [
    "## Define training data\n",
    "\n",
    "# inputs need to have samples on rows with columns\n",
    "# representing features: shape (X,768), where 768 is the number of features\n",
    "#input_data = # as array_like\n",
    "#train_input = torch.as_tensor(input_data, dtype=torch.float)\n",
    "X_train = torch.randn(1000,768) # random input\n",
    "\n",
    "# Target is a column vector of 0s and 1s: shape (X,1)\n",
    "#target_data = # as array_like\n",
    "#train_target = torch.as_tensor(target_data, dtype=torch.float)\n",
    "#train_target = torch.empty(1000,1).random_(2) # random labels\n",
    "y_train = torch.zeros([1000,1])\n",
    "for i in range(len(X_train)):\n",
    "    if X_train[i,0] >= 0:\n",
    "        y_train[i] = 1\n",
    "    else:\n",
    "        y_train[i] = 0"
   ]
  },
  {
   "cell_type": "code",
   "execution_count": 45,
   "metadata": {},
   "outputs": [],
   "source": [
    "# Model fitting functions for mask detection\n",
    "learning_rate = 0.01\n",
    "\n",
    "def fit(L, X_train, y_train, batch_size, n_iter, lr):\n",
    "    \n",
    "    for i_batch in range(n_iter):\n",
    "        batch_indices = torch.randint(len(X_train), [batch_size])\n",
    "        train_batch(L, X_train[batch_indices], y_train[batch_indices], lr)\n",
    "\n",
    "\n",
    "def train_batch(L, X_batch, y_batch, lr):\n",
    "    lossfunc = torch.nn.BCEWithLogitsLoss()\n",
    "    optimizer = torch.optim.SGD(L.parameters(), lr=lr)\n",
    "    loss_diary = torch.zeros([len(X_batch)])\n",
    "\n",
    "    for i in range(len(X_batch)):\n",
    "        output = L(X_train[i])\n",
    "        loss = lossfunc(output, y_train[i])\n",
    "        loss.backward()\n",
    "        optimizer.step()\n",
    "\n",
    "    mean_loss = torch.mean(loss_diary)\n",
    "    print(mean_loss)"
   ]
  },
  {
   "cell_type": "code",
   "execution_count": 47,
   "metadata": {},
   "outputs": [
    {
     "name": "stdout",
     "output_type": "stream",
     "text": [
      "tensor(0.)\n",
      "tensor(0.)\n",
      "tensor(0.)\n",
      "tensor(0.)\n",
      "tensor(0.)\n",
      "tensor(0.)\n",
      "tensor(0.)\n",
      "tensor(0.)\n",
      "tensor(0.)\n",
      "tensor(0.)\n",
      "tensor(0.)\n",
      "tensor(0.)\n",
      "tensor(0.)\n",
      "tensor(0.)\n",
      "tensor(0.)\n",
      "tensor(0.)\n",
      "tensor(0.)\n",
      "tensor(0.)\n",
      "tensor(0.)\n",
      "tensor(0.)\n",
      "tensor(0.)\n",
      "tensor(0.)\n",
      "tensor(0.)\n",
      "tensor(0.)\n",
      "tensor(0.)\n",
      "tensor(0.)\n",
      "tensor(0.)\n",
      "tensor(0.)\n",
      "tensor(0.)\n",
      "tensor(0.)\n",
      "tensor(0.)\n",
      "tensor(0.)\n",
      "tensor(0.)\n",
      "tensor(0.)\n",
      "tensor(0.)\n",
      "tensor(0.)\n",
      "tensor(0.)\n",
      "tensor(0.)\n",
      "tensor(0.)\n",
      "tensor(0.)\n",
      "tensor(0.)\n",
      "tensor(0.)\n",
      "tensor(0.)\n",
      "tensor(0.)\n",
      "tensor(0.)\n",
      "tensor(0.)\n",
      "tensor(0.)\n",
      "tensor(0.)\n",
      "tensor(0.)\n",
      "tensor(0.)\n",
      "tensor(0.)\n",
      "tensor(0.)\n",
      "tensor(0.)\n",
      "tensor(0.)\n",
      "tensor(0.)\n",
      "tensor(0.)\n",
      "tensor(0.)\n",
      "tensor(0.)\n",
      "tensor(0.)\n",
      "tensor(0.)\n",
      "tensor(0.)\n",
      "tensor(0.)\n",
      "tensor(0.)\n",
      "tensor(0.)\n",
      "tensor(0.)\n",
      "tensor(0.)\n",
      "tensor(0.)\n",
      "tensor(0.)\n",
      "tensor(0.)\n",
      "tensor(0.)\n",
      "tensor(0.)\n",
      "tensor(0.)\n",
      "tensor(0.)\n",
      "tensor(0.)\n",
      "tensor(0.)\n",
      "tensor(0.)\n",
      "tensor(0.)\n",
      "tensor(0.)\n",
      "tensor(0.)\n",
      "tensor(0.)\n",
      "tensor(0.)\n",
      "tensor(0.)\n",
      "tensor(0.)\n",
      "tensor(0.)\n",
      "tensor(0.)\n",
      "tensor(0.)\n",
      "tensor(0.)\n",
      "tensor(0.)\n",
      "tensor(0.)\n",
      "tensor(0.)\n",
      "tensor(0.)\n",
      "tensor(0.)\n",
      "tensor(0.)\n",
      "tensor(0.)\n",
      "tensor(0.)\n",
      "tensor(0.)\n",
      "tensor(0.)\n",
      "tensor(0.)\n",
      "tensor(0.)\n",
      "tensor(0.)\n"
     ]
    }
   ],
   "source": [
    "fit(L, X_train, y_train, 10, 100, 0.01)\n"
   ]
  },
  {
   "cell_type": "code",
   "execution_count": 48,
   "metadata": {},
   "outputs": [
    {
     "name": "stdout",
     "output_type": "stream",
     "text": [
      "tensor([[0.0000e+00],\n",
      "        [0.0000e+00],\n",
      "        [5.1029e-20],\n",
      "        [0.0000e+00],\n",
      "        [0.0000e+00],\n",
      "        [8.5619e-25],\n",
      "        [0.0000e+00],\n",
      "        [0.0000e+00],\n",
      "        [1.0000e+00],\n",
      "        [0.0000e+00]], grad_fn=<SliceBackward0>)\n",
      "tensor([[0.],\n",
      "        [0.],\n",
      "        [0.],\n",
      "        [0.],\n",
      "        [0.],\n",
      "        [0.],\n",
      "        [0.],\n",
      "        [0.],\n",
      "        [1.],\n",
      "        [0.]], grad_fn=<SliceBackward0>)\n",
      "0.516\n"
     ]
    }
   ],
   "source": [
    "## Testing environment\n",
    "\n",
    "# inputs need to have samples on rows with columns\n",
    "# representing features: shape (X,768), where 768 is sample size\n",
    "X_test = torch.randn(500,768)\n",
    "y_test = torch.zeros([500, 1])\n",
    "for i in range(len(X_train)):\n",
    "    if X_train[i,0] >= 0:\n",
    "        y_train[i] = 1\n",
    "    else:\n",
    "        y_train[i] = 0\n",
    "\n",
    "y_prob = torch.sigmoid(L(X_test))\n",
    "y_pred = torch.round(y_prob)\n",
    "\n",
    "correct = 0\n",
    "for i in range(len(y_pred)):\n",
    "    if y_pred[i] == y_test[i]:\n",
    "        correct += 1\n",
    "accuracy = correct/len(y_pred)\n",
    "\n",
    "print(y_prob[0:10,:])\n",
    "print(y_pred[0:10,:])\n",
    "print(accuracy)"
   ]
  },
  {
   "cell_type": "code",
   "execution_count": 50,
   "metadata": {},
   "outputs": [
    {
     "name": "stdout",
     "output_type": "stream",
     "text": [
      "tensor([-0.6053,  0.2663,  0.0590, -2.6686, -3.0597, -1.7991,  0.7897, -1.3379,\n",
      "         0.1080,  0.8870])\n"
     ]
    }
   ],
   "source": [
    "print(X_test[0:10,0])"
   ]
  }
 ],
 "metadata": {
  "kernelspec": {
   "display_name": "Python 3",
   "language": "python",
   "name": "python3"
  },
  "language_info": {
   "codemirror_mode": {
    "name": "ipython",
    "version": 3
   },
   "file_extension": ".py",
   "mimetype": "text/x-python",
   "name": "python",
   "nbconvert_exporter": "python",
   "pygments_lexer": "ipython3",
   "version": "3.10.2"
  }
 },
 "nbformat": 4,
 "nbformat_minor": 5
}
