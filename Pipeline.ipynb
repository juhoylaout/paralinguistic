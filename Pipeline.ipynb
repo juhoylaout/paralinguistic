{
 "cells": [
  {
   "cell_type": "markdown",
   "metadata": {},
   "source": [
    "Neural network implementation for the mask detection task"
   ]
  },
  {
   "cell_type": "code",
   "execution_count": 2,
   "metadata": {},
   "outputs": [],
   "source": [
    "# Modules required for the Neural Network implementation\n",
    "import torch"
   ]
  },
  {
   "cell_type": "code",
   "execution_count": 3,
   "metadata": {},
   "outputs": [],
   "source": [
    "## Initialize Linear model\n",
    "L = torch.nn.Linear(in_features=768, out_features=1,\n",
    "                    bias=True)"
   ]
  },
  {
   "cell_type": "code",
   "execution_count": 4,
   "metadata": {},
   "outputs": [],
   "source": [
    "## Define training data\n",
    "\n",
    "# inputs need to have samples on rows with columns\n",
    "# representing features: shape (X,768), where 768 is the number of features\n",
    "#input_data = # as array_like\n",
    "#train_input = torch.as_tensor(input_data, dtype=torch.float)\n",
    "train_input = torch.randn(1000,768) # random input\n",
    "\n",
    "# Target is a column vector of 0s and 1s: shape (X,1)\n",
    "#target_data = # as array_like\n",
    "#train_target = torch.as_tensor(target_data, dtype=torch.float)\n",
    "train_target = torch.empty(1000,1).random_(2) # random labels"
   ]
  },
  {
   "cell_type": "code",
   "execution_count": 5,
   "metadata": {},
   "outputs": [
    {
     "name": "stdout",
     "output_type": "stream",
     "text": [
      "tensor([[ 7.0922e-05, -2.7705e-02,  1.9984e-02, -1.9095e-02,  1.1072e-02,\n",
      "         -2.0419e-02,  2.3635e-02,  1.9698e-02,  1.6660e-02,  9.3722e-03]],\n",
      "       grad_fn=<SliceBackward0>)\n"
     ]
    }
   ],
   "source": [
    "## Network training algorithm\n",
    "\n",
    "# Learning rate of the SGD algorithm\n",
    "learning_rate = 0.01\n",
    "\n",
    "# Forward pass\n",
    "output = L(train_input)\n",
    "\n",
    "# BCE loss function with sigmoid activation\n",
    "lossfunc = torch.nn.BCEWithLogitsLoss()\n",
    "\n",
    "# Compute loss\n",
    "loss = lossfunc(output, train_target)\n",
    "\n",
    "# Create Stochastic Gradient Descent optimizer\n",
    "SDGoptimizer = torch.optim.SGD(L.parameters(), lr=learning_rate)\n",
    "\n",
    "# Backward pass\n",
    "loss.backward()\n",
    "\n",
    "# Update weights\n",
    "SDGoptimizer.step()\n",
    "\n",
    "print(L.weight[:,0:10])"
   ]
  },
  {
   "cell_type": "code",
   "execution_count": 9,
   "metadata": {},
   "outputs": [
    {
     "name": "stdout",
     "output_type": "stream",
     "text": [
      "tensor([[0.7438],\n",
      "        [0.5547],\n",
      "        [0.6098],\n",
      "        [0.5092],\n",
      "        [0.4348],\n",
      "        [0.4138],\n",
      "        [0.4926],\n",
      "        [0.4514],\n",
      "        [0.4395],\n",
      "        [0.3345]], grad_fn=<SliceBackward0>)\n",
      "tensor([[1.],\n",
      "        [1.],\n",
      "        [1.],\n",
      "        [1.],\n",
      "        [0.],\n",
      "        [0.],\n",
      "        [0.],\n",
      "        [0.],\n",
      "        [0.],\n",
      "        [0.]], grad_fn=<SliceBackward0>)\n"
     ]
    }
   ],
   "source": [
    "## Testing environment\n",
    "\n",
    "# inputs need to have samples on rows with columns\n",
    "# representing features: shape (X,768), where 768 is sample size\n",
    "test_input = torch.randn(100,768)\n",
    "\n",
    "test_output_prob = torch.sigmoid(L(test_input))\n",
    "test_output_pred = torch.round(test_output_prob)\n",
    "\n",
    "print(test_output_prob[0:10,:])\n",
    "print(test_output_pred[0:10,:])"
   ]
  }
 ],
 "metadata": {
  "kernelspec": {
   "display_name": "Python 3",
   "language": "python",
   "name": "python3"
  },
  "language_info": {
   "codemirror_mode": {
    "name": "ipython",
    "version": 3
   },
   "file_extension": ".py",
   "mimetype": "text/x-python",
   "name": "python",
   "nbconvert_exporter": "python",
   "pygments_lexer": "ipython3",
   "version": "3.10.2"
  }
 },
 "nbformat": 4,
 "nbformat_minor": 5
}
